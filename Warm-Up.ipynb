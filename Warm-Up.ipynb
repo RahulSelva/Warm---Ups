{
 "cells": [
  {
   "cell_type": "markdown",
   "id": "52a68e0b",
   "metadata": {},
   "source": [
    "## 1. Returns the prime number between two boundaries:"
   ]
  },
  {
   "cell_type": "markdown",
   "id": "c2666571",
   "metadata": {},
   "source": [
    "### "
   ]
  },
  {
   "cell_type": "code",
   "execution_count": 142,
   "id": "e05f113c",
   "metadata": {},
   "outputs": [],
   "source": [
    "def prime_number_between(m,n):\n",
    "    def prime_number_till(m):\n",
    "        global a\n",
    "        k=[2]\n",
    "        num=0\n",
    "        while num<m:\n",
    "            num+=1\n",
    "            for i in range (2,num):\n",
    "                if num%i == 0:\n",
    "                    a = 'False'\n",
    "                    break\n",
    "                else:\n",
    "                    a = 'True'\n",
    "            if a == 'True':\n",
    "                k.append(num)\n",
    "        return k\n",
    "    def prime_number_till(n):\n",
    "        global a\n",
    "        l=[2]\n",
    "        num=0\n",
    "        while num<n:\n",
    "            num+=1\n",
    "            for i in range (2,num):\n",
    "                if num%i == 0:\n",
    "                    a = 'False'\n",
    "                    break\n",
    "                else:\n",
    "                    a = 'True'\n",
    "            if a == 'True':\n",
    "                l.append(num)\n",
    "        return l\n",
    "    y=prime_number_till(m)\n",
    "    z=prime_number_till(n)\n",
    "    return [x for x in y if x not in z]\n",
    "     "
   ]
  },
  {
   "cell_type": "code",
   "execution_count": 145,
   "id": "f398604e",
   "metadata": {},
   "outputs": [
    {
     "data": {
      "text/plain": [
       "[53, 59, 61, 67, 71, 73, 79, 83, 89, 97]"
      ]
     },
     "execution_count": 145,
     "metadata": {},
     "output_type": "execute_result"
    }
   ],
   "source": [
    "prime_number_between(100,50)"
   ]
  }
 ],
 "metadata": {
  "kernelspec": {
   "display_name": "Python 3",
   "language": "python",
   "name": "python3"
  },
  "language_info": {
   "codemirror_mode": {
    "name": "ipython",
    "version": 3
   },
   "file_extension": ".py",
   "mimetype": "text/x-python",
   "name": "python",
   "nbconvert_exporter": "python",
   "pygments_lexer": "ipython3",
   "version": "3.8.8"
  }
 },
 "nbformat": 4,
 "nbformat_minor": 5
}
